{
 "cells": [
  {
   "cell_type": "code",
   "execution_count": 1,
   "id": "282cb30b",
   "metadata": {
    "_cell_guid": "b1076dfc-b9ad-4769-8c92-a6c4dae69d19",
    "_uuid": "8f2839f25d086af736a60e9eeb907d3b93b6e0e5",
    "execution": {
     "iopub.execute_input": "2024-02-29T16:38:49.865924Z",
     "iopub.status.busy": "2024-02-29T16:38:49.865424Z",
     "iopub.status.idle": "2024-02-29T16:38:53.092168Z",
     "shell.execute_reply": "2024-02-29T16:38:53.090505Z"
    },
    "papermill": {
     "duration": 3.244356,
     "end_time": "2024-02-29T16:38:53.095006",
     "exception": false,
     "start_time": "2024-02-29T16:38:49.850650",
     "status": "completed"
    },
    "tags": []
   },
   "outputs": [
    {
     "name": "stdout",
     "output_type": "stream",
     "text": [
      "/kaggle/input/loan-status-prediction/loan_data.csv\n"
     ]
    }
   ],
   "source": [
    "# This Python 3 environment comes with many helpful analytics libraries installed\n",
    "# It is defined by the kaggle/python Docker image: https://github.com/kaggle/docker-python\n",
    "# For example, here's several helpful packages to load\n",
    "\n",
    "import numpy as np # linear algebra\n",
    "import pandas as pd # data processing, CSV file I/O (e.g. pd.read_csv)\n",
    "from statistics import variance, stdev # for doing statistical analysis\n",
    "import matplotlib.pyplot as plt\n",
    "import seaborn as sns\n",
    "from sklearn.preprocessing import StandardScaler, LabelEncoder\n",
    "\n",
    "# Input data files are available in the read-only \"../input/\" directory\n",
    "# For example, running this (by clicking run or pressing Shift+Enter) will list all files under the input directory\n",
    "\n",
    "import os\n",
    "for dirname, _, filenames in os.walk('/kaggle/input'):\n",
    "    for filename in filenames:\n",
    "        print(os.path.join(dirname, filename))\n",
    "\n",
    "# You can write up to 20GB to the current directory (/kaggle/working/) that gets preserved as output when you create a version using \"Save & Run All\" \n",
    "# You can also write temporary files to /kaggle/temp/, but they won't be saved outside of the current session"
   ]
  },
  {
   "cell_type": "code",
   "execution_count": 2,
   "id": "f208b121",
   "metadata": {
    "execution": {
     "iopub.execute_input": "2024-02-29T16:38:53.122718Z",
     "iopub.status.busy": "2024-02-29T16:38:53.122009Z",
     "iopub.status.idle": "2024-02-29T16:38:53.175830Z",
     "shell.execute_reply": "2024-02-29T16:38:53.174145Z"
    },
    "papermill": {
     "duration": 0.071067,
     "end_time": "2024-02-29T16:38:53.178951",
     "exception": false,
     "start_time": "2024-02-29T16:38:53.107884",
     "status": "completed"
    },
    "tags": []
   },
   "outputs": [
    {
     "data": {
      "text/html": [
       "<div>\n",
       "<style scoped>\n",
       "    .dataframe tbody tr th:only-of-type {\n",
       "        vertical-align: middle;\n",
       "    }\n",
       "\n",
       "    .dataframe tbody tr th {\n",
       "        vertical-align: top;\n",
       "    }\n",
       "\n",
       "    .dataframe thead th {\n",
       "        text-align: right;\n",
       "    }\n",
       "</style>\n",
       "<table border=\"1\" class=\"dataframe\">\n",
       "  <thead>\n",
       "    <tr style=\"text-align: right;\">\n",
       "      <th></th>\n",
       "      <th>Loan_ID</th>\n",
       "      <th>Gender</th>\n",
       "      <th>Married</th>\n",
       "      <th>Dependents</th>\n",
       "      <th>Education</th>\n",
       "      <th>Self_Employed</th>\n",
       "      <th>ApplicantIncome</th>\n",
       "      <th>CoapplicantIncome</th>\n",
       "      <th>LoanAmount</th>\n",
       "      <th>Loan_Amount_Term</th>\n",
       "      <th>Credit_History</th>\n",
       "      <th>Property_Area</th>\n",
       "      <th>Loan_Status</th>\n",
       "    </tr>\n",
       "  </thead>\n",
       "  <tbody>\n",
       "    <tr>\n",
       "      <th>0</th>\n",
       "      <td>LP001003</td>\n",
       "      <td>Male</td>\n",
       "      <td>Yes</td>\n",
       "      <td>1</td>\n",
       "      <td>Graduate</td>\n",
       "      <td>No</td>\n",
       "      <td>4583</td>\n",
       "      <td>1508.0</td>\n",
       "      <td>128.0</td>\n",
       "      <td>360.0</td>\n",
       "      <td>1.0</td>\n",
       "      <td>Rural</td>\n",
       "      <td>N</td>\n",
       "    </tr>\n",
       "    <tr>\n",
       "      <th>1</th>\n",
       "      <td>LP001005</td>\n",
       "      <td>Male</td>\n",
       "      <td>Yes</td>\n",
       "      <td>0</td>\n",
       "      <td>Graduate</td>\n",
       "      <td>Yes</td>\n",
       "      <td>3000</td>\n",
       "      <td>0.0</td>\n",
       "      <td>66.0</td>\n",
       "      <td>360.0</td>\n",
       "      <td>1.0</td>\n",
       "      <td>Urban</td>\n",
       "      <td>Y</td>\n",
       "    </tr>\n",
       "    <tr>\n",
       "      <th>2</th>\n",
       "      <td>LP001006</td>\n",
       "      <td>Male</td>\n",
       "      <td>Yes</td>\n",
       "      <td>0</td>\n",
       "      <td>Not Graduate</td>\n",
       "      <td>No</td>\n",
       "      <td>2583</td>\n",
       "      <td>2358.0</td>\n",
       "      <td>120.0</td>\n",
       "      <td>360.0</td>\n",
       "      <td>1.0</td>\n",
       "      <td>Urban</td>\n",
       "      <td>Y</td>\n",
       "    </tr>\n",
       "    <tr>\n",
       "      <th>3</th>\n",
       "      <td>LP001008</td>\n",
       "      <td>Male</td>\n",
       "      <td>No</td>\n",
       "      <td>0</td>\n",
       "      <td>Graduate</td>\n",
       "      <td>No</td>\n",
       "      <td>6000</td>\n",
       "      <td>0.0</td>\n",
       "      <td>141.0</td>\n",
       "      <td>360.0</td>\n",
       "      <td>1.0</td>\n",
       "      <td>Urban</td>\n",
       "      <td>Y</td>\n",
       "    </tr>\n",
       "    <tr>\n",
       "      <th>4</th>\n",
       "      <td>LP001013</td>\n",
       "      <td>Male</td>\n",
       "      <td>Yes</td>\n",
       "      <td>0</td>\n",
       "      <td>Not Graduate</td>\n",
       "      <td>No</td>\n",
       "      <td>2333</td>\n",
       "      <td>1516.0</td>\n",
       "      <td>95.0</td>\n",
       "      <td>360.0</td>\n",
       "      <td>1.0</td>\n",
       "      <td>Urban</td>\n",
       "      <td>Y</td>\n",
       "    </tr>\n",
       "  </tbody>\n",
       "</table>\n",
       "</div>"
      ],
      "text/plain": [
       "    Loan_ID Gender Married Dependents     Education Self_Employed  \\\n",
       "0  LP001003   Male     Yes          1      Graduate            No   \n",
       "1  LP001005   Male     Yes          0      Graduate           Yes   \n",
       "2  LP001006   Male     Yes          0  Not Graduate            No   \n",
       "3  LP001008   Male      No          0      Graduate            No   \n",
       "4  LP001013   Male     Yes          0  Not Graduate            No   \n",
       "\n",
       "   ApplicantIncome  CoapplicantIncome  LoanAmount  Loan_Amount_Term  \\\n",
       "0             4583             1508.0       128.0             360.0   \n",
       "1             3000                0.0        66.0             360.0   \n",
       "2             2583             2358.0       120.0             360.0   \n",
       "3             6000                0.0       141.0             360.0   \n",
       "4             2333             1516.0        95.0             360.0   \n",
       "\n",
       "   Credit_History Property_Area Loan_Status  \n",
       "0             1.0         Rural           N  \n",
       "1             1.0         Urban           Y  \n",
       "2             1.0         Urban           Y  \n",
       "3             1.0         Urban           Y  \n",
       "4             1.0         Urban           Y  "
      ]
     },
     "execution_count": 2,
     "metadata": {},
     "output_type": "execute_result"
    }
   ],
   "source": [
    "loan = pd.read_csv('/kaggle/input/loan-status-prediction/loan_data.csv')\n",
    "loan.head()"
   ]
  },
  {
   "cell_type": "code",
   "execution_count": 3,
   "id": "ed03344b",
   "metadata": {
    "execution": {
     "iopub.execute_input": "2024-02-29T16:38:53.207431Z",
     "iopub.status.busy": "2024-02-29T16:38:53.206950Z",
     "iopub.status.idle": "2024-02-29T16:38:53.233131Z",
     "shell.execute_reply": "2024-02-29T16:38:53.231555Z"
    },
    "papermill": {
     "duration": 0.044527,
     "end_time": "2024-02-29T16:38:53.236529",
     "exception": false,
     "start_time": "2024-02-29T16:38:53.192002",
     "status": "completed"
    },
    "tags": []
   },
   "outputs": [
    {
     "data": {
      "text/html": [
       "<div>\n",
       "<style scoped>\n",
       "    .dataframe tbody tr th:only-of-type {\n",
       "        vertical-align: middle;\n",
       "    }\n",
       "\n",
       "    .dataframe tbody tr th {\n",
       "        vertical-align: top;\n",
       "    }\n",
       "\n",
       "    .dataframe thead th {\n",
       "        text-align: right;\n",
       "    }\n",
       "</style>\n",
       "<table border=\"1\" class=\"dataframe\">\n",
       "  <thead>\n",
       "    <tr style=\"text-align: right;\">\n",
       "      <th></th>\n",
       "      <th>Loan_ID</th>\n",
       "      <th>Gender</th>\n",
       "      <th>Married</th>\n",
       "      <th>Dependents</th>\n",
       "      <th>Education</th>\n",
       "      <th>Self_Employed</th>\n",
       "      <th>ApplicantIncome</th>\n",
       "      <th>CoapplicantIncome</th>\n",
       "      <th>LoanAmount</th>\n",
       "      <th>Loan_Amount_Term</th>\n",
       "      <th>Credit_History</th>\n",
       "      <th>Property_Area</th>\n",
       "      <th>Loan_Status</th>\n",
       "    </tr>\n",
       "  </thead>\n",
       "  <tbody>\n",
       "    <tr>\n",
       "      <th>0</th>\n",
       "      <td>LP001003</td>\n",
       "      <td>Male</td>\n",
       "      <td>Yes</td>\n",
       "      <td>1</td>\n",
       "      <td>Graduate</td>\n",
       "      <td>No</td>\n",
       "      <td>4583</td>\n",
       "      <td>1508.0</td>\n",
       "      <td>128.0</td>\n",
       "      <td>360.0</td>\n",
       "      <td>1.0</td>\n",
       "      <td>Rural</td>\n",
       "      <td>N</td>\n",
       "    </tr>\n",
       "    <tr>\n",
       "      <th>1</th>\n",
       "      <td>LP001005</td>\n",
       "      <td>Male</td>\n",
       "      <td>Yes</td>\n",
       "      <td>0</td>\n",
       "      <td>Graduate</td>\n",
       "      <td>Yes</td>\n",
       "      <td>3000</td>\n",
       "      <td>0.0</td>\n",
       "      <td>66.0</td>\n",
       "      <td>360.0</td>\n",
       "      <td>1.0</td>\n",
       "      <td>Urban</td>\n",
       "      <td>Y</td>\n",
       "    </tr>\n",
       "    <tr>\n",
       "      <th>2</th>\n",
       "      <td>LP001006</td>\n",
       "      <td>Male</td>\n",
       "      <td>Yes</td>\n",
       "      <td>0</td>\n",
       "      <td>Not Graduate</td>\n",
       "      <td>No</td>\n",
       "      <td>2583</td>\n",
       "      <td>2358.0</td>\n",
       "      <td>120.0</td>\n",
       "      <td>360.0</td>\n",
       "      <td>1.0</td>\n",
       "      <td>Urban</td>\n",
       "      <td>Y</td>\n",
       "    </tr>\n",
       "    <tr>\n",
       "      <th>3</th>\n",
       "      <td>LP001008</td>\n",
       "      <td>Male</td>\n",
       "      <td>No</td>\n",
       "      <td>0</td>\n",
       "      <td>Graduate</td>\n",
       "      <td>No</td>\n",
       "      <td>6000</td>\n",
       "      <td>0.0</td>\n",
       "      <td>141.0</td>\n",
       "      <td>360.0</td>\n",
       "      <td>1.0</td>\n",
       "      <td>Urban</td>\n",
       "      <td>Y</td>\n",
       "    </tr>\n",
       "    <tr>\n",
       "      <th>4</th>\n",
       "      <td>LP001013</td>\n",
       "      <td>Male</td>\n",
       "      <td>Yes</td>\n",
       "      <td>0</td>\n",
       "      <td>Not Graduate</td>\n",
       "      <td>No</td>\n",
       "      <td>2333</td>\n",
       "      <td>1516.0</td>\n",
       "      <td>95.0</td>\n",
       "      <td>360.0</td>\n",
       "      <td>1.0</td>\n",
       "      <td>Urban</td>\n",
       "      <td>Y</td>\n",
       "    </tr>\n",
       "  </tbody>\n",
       "</table>\n",
       "</div>"
      ],
      "text/plain": [
       "    Loan_ID Gender Married Dependents     Education Self_Employed  \\\n",
       "0  LP001003   Male     Yes          1      Graduate            No   \n",
       "1  LP001005   Male     Yes          0      Graduate           Yes   \n",
       "2  LP001006   Male     Yes          0  Not Graduate            No   \n",
       "3  LP001008   Male      No          0      Graduate            No   \n",
       "4  LP001013   Male     Yes          0  Not Graduate            No   \n",
       "\n",
       "   ApplicantIncome  CoapplicantIncome  LoanAmount  Loan_Amount_Term  \\\n",
       "0             4583             1508.0       128.0             360.0   \n",
       "1             3000                0.0        66.0             360.0   \n",
       "2             2583             2358.0       120.0             360.0   \n",
       "3             6000                0.0       141.0             360.0   \n",
       "4             2333             1516.0        95.0             360.0   \n",
       "\n",
       "   Credit_History Property_Area Loan_Status  \n",
       "0             1.0         Rural           N  \n",
       "1             1.0         Urban           Y  \n",
       "2             1.0         Urban           Y  \n",
       "3             1.0         Urban           Y  \n",
       "4             1.0         Urban           Y  "
      ]
     },
     "execution_count": 3,
     "metadata": {},
     "output_type": "execute_result"
    }
   ],
   "source": [
    "#create a copy of the dataset\n",
    "df = loan.copy()\n",
    "df.head()"
   ]
  },
  {
   "cell_type": "markdown",
   "id": "a17c273f",
   "metadata": {
    "papermill": {
     "duration": 0.013232,
     "end_time": "2024-02-29T16:38:53.263322",
     "exception": false,
     "start_time": "2024-02-29T16:38:53.250090",
     "status": "completed"
    },
    "tags": []
   },
   "source": [
    "## Data sanity checks"
   ]
  },
  {
   "cell_type": "code",
   "execution_count": 4,
   "id": "83b079d0",
   "metadata": {
    "execution": {
     "iopub.execute_input": "2024-02-29T16:38:53.295203Z",
     "iopub.status.busy": "2024-02-29T16:38:53.294687Z",
     "iopub.status.idle": "2024-02-29T16:38:53.303451Z",
     "shell.execute_reply": "2024-02-29T16:38:53.301877Z"
    },
    "papermill": {
     "duration": 0.027205,
     "end_time": "2024-02-29T16:38:53.305965",
     "exception": false,
     "start_time": "2024-02-29T16:38:53.278760",
     "status": "completed"
    },
    "tags": []
   },
   "outputs": [
    {
     "data": {
      "text/plain": [
       "(381, 13)"
      ]
     },
     "execution_count": 4,
     "metadata": {},
     "output_type": "execute_result"
    }
   ],
   "source": [
    "#get shape of dataset\n",
    "loan.shape"
   ]
  },
  {
   "cell_type": "markdown",
   "id": "67056d5e",
   "metadata": {
    "papermill": {
     "duration": 0.015237,
     "end_time": "2024-02-29T16:38:53.336787",
     "exception": false,
     "start_time": "2024-02-29T16:38:53.321550",
     "status": "completed"
    },
    "tags": []
   },
   "source": [
    "- The data has 381 rows and 13 columns"
   ]
  },
  {
   "cell_type": "code",
   "execution_count": 5,
   "id": "d11a1f1c",
   "metadata": {
    "execution": {
     "iopub.execute_input": "2024-02-29T16:38:53.369327Z",
     "iopub.status.busy": "2024-02-29T16:38:53.368826Z",
     "iopub.status.idle": "2024-02-29T16:38:53.384712Z",
     "shell.execute_reply": "2024-02-29T16:38:53.382920Z"
    },
    "papermill": {
     "duration": 0.036454,
     "end_time": "2024-02-29T16:38:53.387868",
     "exception": false,
     "start_time": "2024-02-29T16:38:53.351414",
     "status": "completed"
    },
    "tags": []
   },
   "outputs": [
    {
     "data": {
      "text/plain": [
       "Loan_ID               0\n",
       "Gender                5\n",
       "Married               0\n",
       "Dependents            8\n",
       "Education             0\n",
       "Self_Employed        21\n",
       "ApplicantIncome       0\n",
       "CoapplicantIncome     0\n",
       "LoanAmount            0\n",
       "Loan_Amount_Term     11\n",
       "Credit_History       30\n",
       "Property_Area         0\n",
       "Loan_Status           0\n",
       "dtype: int64"
      ]
     },
     "execution_count": 5,
     "metadata": {},
     "output_type": "execute_result"
    }
   ],
   "source": [
    "#checking missing values\n",
    "loan.isnull().sum()"
   ]
  },
  {
   "cell_type": "markdown",
   "id": "54a63986",
   "metadata": {
    "papermill": {
     "duration": 0.01612,
     "end_time": "2024-02-29T16:38:53.419446",
     "exception": false,
     "start_time": "2024-02-29T16:38:53.403326",
     "status": "completed"
    },
    "tags": []
   },
   "source": [
    "- The columns with missing values in our dataset include:\n",
    "> - Gender: 5\n",
    "> - Dependents: 8\n",
    "> - Self_employed: 21\n",
    "> - Loan_amount_term: 11\n",
    "> - Credit_History: 30(Highest)"
   ]
  },
  {
   "cell_type": "code",
   "execution_count": 6,
   "id": "3b9bcc9f",
   "metadata": {
    "execution": {
     "iopub.execute_input": "2024-02-29T16:38:53.450312Z",
     "iopub.status.busy": "2024-02-29T16:38:53.449779Z",
     "iopub.status.idle": "2024-02-29T16:38:53.468753Z",
     "shell.execute_reply": "2024-02-29T16:38:53.467395Z"
    },
    "papermill": {
     "duration": 0.037436,
     "end_time": "2024-02-29T16:38:53.471396",
     "exception": false,
     "start_time": "2024-02-29T16:38:53.433960",
     "status": "completed"
    },
    "tags": []
   },
   "outputs": [
    {
     "data": {
      "text/plain": [
       "0"
      ]
     },
     "execution_count": 6,
     "metadata": {},
     "output_type": "execute_result"
    }
   ],
   "source": [
    "#Checking for duplicates\n",
    "loan.duplicated().sum()"
   ]
  },
  {
   "cell_type": "markdown",
   "id": "5a76ae2c",
   "metadata": {
    "papermill": {
     "duration": 0.014156,
     "end_time": "2024-02-29T16:38:53.499927",
     "exception": false,
     "start_time": "2024-02-29T16:38:53.485771",
     "status": "completed"
    },
    "tags": []
   },
   "source": [
    "- There're no duplicates"
   ]
  },
  {
   "cell_type": "code",
   "execution_count": 7,
   "id": "3bf5cb5e",
   "metadata": {
    "execution": {
     "iopub.execute_input": "2024-02-29T16:38:53.529561Z",
     "iopub.status.busy": "2024-02-29T16:38:53.529116Z",
     "iopub.status.idle": "2024-02-29T16:38:53.557900Z",
     "shell.execute_reply": "2024-02-29T16:38:53.556179Z"
    },
    "papermill": {
     "duration": 0.047613,
     "end_time": "2024-02-29T16:38:53.561294",
     "exception": false,
     "start_time": "2024-02-29T16:38:53.513681",
     "status": "completed"
    },
    "tags": []
   },
   "outputs": [
    {
     "name": "stdout",
     "output_type": "stream",
     "text": [
      "<class 'pandas.core.frame.DataFrame'>\n",
      "RangeIndex: 381 entries, 0 to 380\n",
      "Data columns (total 13 columns):\n",
      " #   Column             Non-Null Count  Dtype  \n",
      "---  ------             --------------  -----  \n",
      " 0   Loan_ID            381 non-null    object \n",
      " 1   Gender             376 non-null    object \n",
      " 2   Married            381 non-null    object \n",
      " 3   Dependents         373 non-null    object \n",
      " 4   Education          381 non-null    object \n",
      " 5   Self_Employed      360 non-null    object \n",
      " 6   ApplicantIncome    381 non-null    int64  \n",
      " 7   CoapplicantIncome  381 non-null    float64\n",
      " 8   LoanAmount         381 non-null    float64\n",
      " 9   Loan_Amount_Term   370 non-null    float64\n",
      " 10  Credit_History     351 non-null    float64\n",
      " 11  Property_Area      381 non-null    object \n",
      " 12  Loan_Status        381 non-null    object \n",
      "dtypes: float64(4), int64(1), object(8)\n",
      "memory usage: 38.8+ KB\n"
     ]
    }
   ],
   "source": [
    "loan.info()"
   ]
  },
  {
   "cell_type": "markdown",
   "id": "5388af13",
   "metadata": {
    "papermill": {
     "duration": 0.01364,
     "end_time": "2024-02-29T16:38:53.589137",
     "exception": false,
     "start_time": "2024-02-29T16:38:53.575497",
     "status": "completed"
    },
    "tags": []
   },
   "source": [
    "- The dataset has the following datatypes\n",
    "> - float: 4 columns\n",
    "> - Integers: 1 column\n",
    "> - Object(string): 8 columns"
   ]
  },
  {
   "cell_type": "code",
   "execution_count": 8,
   "id": "900b925b",
   "metadata": {
    "execution": {
     "iopub.execute_input": "2024-02-29T16:38:53.620637Z",
     "iopub.status.busy": "2024-02-29T16:38:53.620171Z",
     "iopub.status.idle": "2024-02-29T16:38:53.657508Z",
     "shell.execute_reply": "2024-02-29T16:38:53.656155Z"
    },
    "papermill": {
     "duration": 0.05655,
     "end_time": "2024-02-29T16:38:53.660659",
     "exception": false,
     "start_time": "2024-02-29T16:38:53.604109",
     "status": "completed"
    },
    "tags": []
   },
   "outputs": [
    {
     "data": {
      "text/html": [
       "<div>\n",
       "<style scoped>\n",
       "    .dataframe tbody tr th:only-of-type {\n",
       "        vertical-align: middle;\n",
       "    }\n",
       "\n",
       "    .dataframe tbody tr th {\n",
       "        vertical-align: top;\n",
       "    }\n",
       "\n",
       "    .dataframe thead th {\n",
       "        text-align: right;\n",
       "    }\n",
       "</style>\n",
       "<table border=\"1\" class=\"dataframe\">\n",
       "  <thead>\n",
       "    <tr style=\"text-align: right;\">\n",
       "      <th></th>\n",
       "      <th>count</th>\n",
       "      <th>mean</th>\n",
       "      <th>std</th>\n",
       "      <th>min</th>\n",
       "      <th>25%</th>\n",
       "      <th>50%</th>\n",
       "      <th>75%</th>\n",
       "      <th>max</th>\n",
       "    </tr>\n",
       "  </thead>\n",
       "  <tbody>\n",
       "    <tr>\n",
       "      <th>ApplicantIncome</th>\n",
       "      <td>381.0</td>\n",
       "      <td>3579.845144</td>\n",
       "      <td>1419.813818</td>\n",
       "      <td>150.0</td>\n",
       "      <td>2600.0</td>\n",
       "      <td>3333.0</td>\n",
       "      <td>4288.0</td>\n",
       "      <td>9703.0</td>\n",
       "    </tr>\n",
       "    <tr>\n",
       "      <th>CoapplicantIncome</th>\n",
       "      <td>381.0</td>\n",
       "      <td>1277.275381</td>\n",
       "      <td>2340.818114</td>\n",
       "      <td>0.0</td>\n",
       "      <td>0.0</td>\n",
       "      <td>983.0</td>\n",
       "      <td>2016.0</td>\n",
       "      <td>33837.0</td>\n",
       "    </tr>\n",
       "    <tr>\n",
       "      <th>LoanAmount</th>\n",
       "      <td>381.0</td>\n",
       "      <td>104.986877</td>\n",
       "      <td>28.358464</td>\n",
       "      <td>9.0</td>\n",
       "      <td>90.0</td>\n",
       "      <td>110.0</td>\n",
       "      <td>127.0</td>\n",
       "      <td>150.0</td>\n",
       "    </tr>\n",
       "    <tr>\n",
       "      <th>Loan_Amount_Term</th>\n",
       "      <td>370.0</td>\n",
       "      <td>340.864865</td>\n",
       "      <td>68.549257</td>\n",
       "      <td>12.0</td>\n",
       "      <td>360.0</td>\n",
       "      <td>360.0</td>\n",
       "      <td>360.0</td>\n",
       "      <td>480.0</td>\n",
       "    </tr>\n",
       "    <tr>\n",
       "      <th>Credit_History</th>\n",
       "      <td>351.0</td>\n",
       "      <td>0.837607</td>\n",
       "      <td>0.369338</td>\n",
       "      <td>0.0</td>\n",
       "      <td>1.0</td>\n",
       "      <td>1.0</td>\n",
       "      <td>1.0</td>\n",
       "      <td>1.0</td>\n",
       "    </tr>\n",
       "  </tbody>\n",
       "</table>\n",
       "</div>"
      ],
      "text/plain": [
       "                   count         mean          std    min     25%     50%  \\\n",
       "ApplicantIncome    381.0  3579.845144  1419.813818  150.0  2600.0  3333.0   \n",
       "CoapplicantIncome  381.0  1277.275381  2340.818114    0.0     0.0   983.0   \n",
       "LoanAmount         381.0   104.986877    28.358464    9.0    90.0   110.0   \n",
       "Loan_Amount_Term   370.0   340.864865    68.549257   12.0   360.0   360.0   \n",
       "Credit_History     351.0     0.837607     0.369338    0.0     1.0     1.0   \n",
       "\n",
       "                      75%      max  \n",
       "ApplicantIncome    4288.0   9703.0  \n",
       "CoapplicantIncome  2016.0  33837.0  \n",
       "LoanAmount          127.0    150.0  \n",
       "Loan_Amount_Term    360.0    480.0  \n",
       "Credit_History        1.0      1.0  "
      ]
     },
     "execution_count": 8,
     "metadata": {},
     "output_type": "execute_result"
    }
   ],
   "source": [
    "#descriptive statistics of the numerical columns\n",
    "loan.describe().T"
   ]
  },
  {
   "cell_type": "code",
   "execution_count": 9,
   "id": "f6e7ffed",
   "metadata": {
    "execution": {
     "iopub.execute_input": "2024-02-29T16:38:53.692305Z",
     "iopub.status.busy": "2024-02-29T16:38:53.691561Z",
     "iopub.status.idle": "2024-02-29T16:38:53.718960Z",
     "shell.execute_reply": "2024-02-29T16:38:53.717261Z"
    },
    "papermill": {
     "duration": 0.046361,
     "end_time": "2024-02-29T16:38:53.721919",
     "exception": false,
     "start_time": "2024-02-29T16:38:53.675558",
     "status": "completed"
    },
    "tags": []
   },
   "outputs": [
    {
     "data": {
      "text/html": [
       "<div>\n",
       "<style scoped>\n",
       "    .dataframe tbody tr th:only-of-type {\n",
       "        vertical-align: middle;\n",
       "    }\n",
       "\n",
       "    .dataframe tbody tr th {\n",
       "        vertical-align: top;\n",
       "    }\n",
       "\n",
       "    .dataframe thead th {\n",
       "        text-align: right;\n",
       "    }\n",
       "</style>\n",
       "<table border=\"1\" class=\"dataframe\">\n",
       "  <thead>\n",
       "    <tr style=\"text-align: right;\">\n",
       "      <th></th>\n",
       "      <th>count</th>\n",
       "      <th>unique</th>\n",
       "      <th>top</th>\n",
       "      <th>freq</th>\n",
       "    </tr>\n",
       "  </thead>\n",
       "  <tbody>\n",
       "    <tr>\n",
       "      <th>Loan_ID</th>\n",
       "      <td>381</td>\n",
       "      <td>381</td>\n",
       "      <td>LP001003</td>\n",
       "      <td>1</td>\n",
       "    </tr>\n",
       "    <tr>\n",
       "      <th>Gender</th>\n",
       "      <td>376</td>\n",
       "      <td>2</td>\n",
       "      <td>Male</td>\n",
       "      <td>291</td>\n",
       "    </tr>\n",
       "    <tr>\n",
       "      <th>Married</th>\n",
       "      <td>381</td>\n",
       "      <td>2</td>\n",
       "      <td>Yes</td>\n",
       "      <td>228</td>\n",
       "    </tr>\n",
       "    <tr>\n",
       "      <th>Dependents</th>\n",
       "      <td>373</td>\n",
       "      <td>4</td>\n",
       "      <td>0</td>\n",
       "      <td>234</td>\n",
       "    </tr>\n",
       "    <tr>\n",
       "      <th>Education</th>\n",
       "      <td>381</td>\n",
       "      <td>2</td>\n",
       "      <td>Graduate</td>\n",
       "      <td>278</td>\n",
       "    </tr>\n",
       "    <tr>\n",
       "      <th>Self_Employed</th>\n",
       "      <td>360</td>\n",
       "      <td>2</td>\n",
       "      <td>No</td>\n",
       "      <td>325</td>\n",
       "    </tr>\n",
       "    <tr>\n",
       "      <th>Property_Area</th>\n",
       "      <td>381</td>\n",
       "      <td>3</td>\n",
       "      <td>Semiurban</td>\n",
       "      <td>149</td>\n",
       "    </tr>\n",
       "    <tr>\n",
       "      <th>Loan_Status</th>\n",
       "      <td>381</td>\n",
       "      <td>2</td>\n",
       "      <td>Y</td>\n",
       "      <td>271</td>\n",
       "    </tr>\n",
       "  </tbody>\n",
       "</table>\n",
       "</div>"
      ],
      "text/plain": [
       "              count unique        top freq\n",
       "Loan_ID         381    381   LP001003    1\n",
       "Gender          376      2       Male  291\n",
       "Married         381      2        Yes  228\n",
       "Dependents      373      4          0  234\n",
       "Education       381      2   Graduate  278\n",
       "Self_Employed   360      2         No  325\n",
       "Property_Area   381      3  Semiurban  149\n",
       "Loan_Status     381      2          Y  271"
      ]
     },
     "execution_count": 9,
     "metadata": {},
     "output_type": "execute_result"
    }
   ],
   "source": [
    "#descriptive statistics of the object columns\n",
    "loan.describe(include = 'object').T"
   ]
  },
  {
   "cell_type": "markdown",
   "id": "67c00588",
   "metadata": {
    "papermill": {
     "duration": 0.014558,
     "end_time": "2024-02-29T16:38:53.752670",
     "exception": false,
     "start_time": "2024-02-29T16:38:53.738112",
     "status": "completed"
    },
    "tags": []
   },
   "source": [
    "## Univariate analysis"
   ]
  },
  {
   "cell_type": "markdown",
   "id": "230a0c2c",
   "metadata": {
    "papermill": {
     "duration": 0.014721,
     "end_time": "2024-02-29T16:38:53.781920",
     "exception": false,
     "start_time": "2024-02-29T16:38:53.767199",
     "status": "completed"
    },
    "tags": []
   },
   "source": [
    "### Value count"
   ]
  },
  {
   "cell_type": "code",
   "execution_count": 10,
   "id": "76ad6eab",
   "metadata": {
    "execution": {
     "iopub.execute_input": "2024-02-29T16:38:53.813772Z",
     "iopub.status.busy": "2024-02-29T16:38:53.813302Z",
     "iopub.status.idle": "2024-02-29T16:38:53.824532Z",
     "shell.execute_reply": "2024-02-29T16:38:53.822943Z"
    },
    "papermill": {
     "duration": 0.030798,
     "end_time": "2024-02-29T16:38:53.827433",
     "exception": false,
     "start_time": "2024-02-29T16:38:53.796635",
     "status": "completed"
    },
    "tags": []
   },
   "outputs": [
    {
     "data": {
      "text/plain": [
       "Property_Area\n",
       "Semiurban    149\n",
       "Urban        126\n",
       "Rural        106\n",
       "Name: count, dtype: int64"
      ]
     },
     "execution_count": 10,
     "metadata": {},
     "output_type": "execute_result"
    }
   ],
   "source": [
    "loan['Property_Area']. value_counts()"
   ]
  },
  {
   "cell_type": "markdown",
   "id": "d1c3832a",
   "metadata": {
    "papermill": {
     "duration": 0.014412,
     "end_time": "2024-02-29T16:38:53.856707",
     "exception": false,
     "start_time": "2024-02-29T16:38:53.842295",
     "status": "completed"
    },
    "tags": []
   },
   "source": [
    "- The property area is divided into 3:\n",
    "> - Semiurban: 149\n",
    "> - Urban: 126\n",
    "> - Rural: 106"
   ]
  },
  {
   "cell_type": "code",
   "execution_count": 11,
   "id": "92c48731",
   "metadata": {
    "execution": {
     "iopub.execute_input": "2024-02-29T16:38:53.888504Z",
     "iopub.status.busy": "2024-02-29T16:38:53.888041Z",
     "iopub.status.idle": "2024-02-29T16:38:53.897422Z",
     "shell.execute_reply": "2024-02-29T16:38:53.896461Z"
    },
    "papermill": {
     "duration": 0.028734,
     "end_time": "2024-02-29T16:38:53.900285",
     "exception": false,
     "start_time": "2024-02-29T16:38:53.871551",
     "status": "completed"
    },
    "tags": []
   },
   "outputs": [
    {
     "data": {
      "text/plain": [
       "Education\n",
       "Graduate        278\n",
       "Not Graduate    103\n",
       "Name: count, dtype: int64"
      ]
     },
     "execution_count": 11,
     "metadata": {},
     "output_type": "execute_result"
    }
   ],
   "source": [
    "loan['Education'].value_counts()"
   ]
  },
  {
   "cell_type": "markdown",
   "id": "50aa7ff2",
   "metadata": {
    "papermill": {
     "duration": 0.014468,
     "end_time": "2024-02-29T16:38:53.929585",
     "exception": false,
     "start_time": "2024-02-29T16:38:53.915117",
     "status": "completed"
    },
    "tags": []
   },
   "source": [
    "- From the loan applicants, 278 are graduants while 103 have not graduated"
   ]
  },
  {
   "cell_type": "code",
   "execution_count": 12,
   "id": "49572b91",
   "metadata": {
    "execution": {
     "iopub.execute_input": "2024-02-29T16:38:53.961547Z",
     "iopub.status.busy": "2024-02-29T16:38:53.961150Z",
     "iopub.status.idle": "2024-02-29T16:38:53.969193Z",
     "shell.execute_reply": "2024-02-29T16:38:53.968220Z"
    },
    "papermill": {
     "duration": 0.02763,
     "end_time": "2024-02-29T16:38:53.972095",
     "exception": false,
     "start_time": "2024-02-29T16:38:53.944465",
     "status": "completed"
    },
    "tags": []
   },
   "outputs": [
    {
     "data": {
      "text/plain": [
       "Dependents\n",
       "0     234\n",
       "2      59\n",
       "1      52\n",
       "3+     28\n",
       "Name: count, dtype: int64"
      ]
     },
     "execution_count": 12,
     "metadata": {},
     "output_type": "execute_result"
    }
   ],
   "source": [
    "loan['Dependents'].value_counts()"
   ]
  },
  {
   "cell_type": "markdown",
   "id": "eb32d6d5",
   "metadata": {
    "papermill": {
     "duration": 0.015404,
     "end_time": "2024-02-29T16:38:54.002319",
     "exception": false,
     "start_time": "2024-02-29T16:38:53.986915",
     "status": "completed"
    },
    "tags": []
   },
   "source": [
    "**The dependent variable**"
   ]
  },
  {
   "cell_type": "code",
   "execution_count": 13,
   "id": "97ba8214",
   "metadata": {
    "execution": {
     "iopub.execute_input": "2024-02-29T16:38:54.038729Z",
     "iopub.status.busy": "2024-02-29T16:38:54.037914Z",
     "iopub.status.idle": "2024-02-29T16:38:54.046869Z",
     "shell.execute_reply": "2024-02-29T16:38:54.045657Z"
    },
    "papermill": {
     "duration": 0.030682,
     "end_time": "2024-02-29T16:38:54.049574",
     "exception": false,
     "start_time": "2024-02-29T16:38:54.018892",
     "status": "completed"
    },
    "tags": []
   },
   "outputs": [
    {
     "data": {
      "text/plain": [
       "Loan_Status\n",
       "Y    271\n",
       "N    110\n",
       "Name: count, dtype: int64"
      ]
     },
     "execution_count": 13,
     "metadata": {},
     "output_type": "execute_result"
    }
   ],
   "source": [
    "loan['Loan_Status'].value_counts()"
   ]
  },
  {
   "cell_type": "markdown",
   "id": "101352f2",
   "metadata": {
    "papermill": {
     "duration": 0.015302,
     "end_time": "2024-02-29T16:38:54.079945",
     "exception": false,
     "start_time": "2024-02-29T16:38:54.064643",
     "status": "completed"
    },
    "tags": []
   },
   "source": [
    "> - 271 people were given a loan, while 110 were not"
   ]
  },
  {
   "cell_type": "code",
   "execution_count": 14,
   "id": "fbb3ed9d",
   "metadata": {
    "execution": {
     "iopub.execute_input": "2024-02-29T16:38:54.113018Z",
     "iopub.status.busy": "2024-02-29T16:38:54.112556Z",
     "iopub.status.idle": "2024-02-29T16:38:54.123131Z",
     "shell.execute_reply": "2024-02-29T16:38:54.121812Z"
    },
    "papermill": {
     "duration": 0.030554,
     "end_time": "2024-02-29T16:38:54.126043",
     "exception": false,
     "start_time": "2024-02-29T16:38:54.095489",
     "status": "completed"
    },
    "tags": []
   },
   "outputs": [
    {
     "data": {
      "text/plain": [
       "Loan_ID               0\n",
       "Gender                5\n",
       "Married               0\n",
       "Dependents            8\n",
       "Education             0\n",
       "Self_Employed        21\n",
       "ApplicantIncome       0\n",
       "CoapplicantIncome     0\n",
       "LoanAmount            0\n",
       "Loan_Amount_Term     11\n",
       "Credit_History       30\n",
       "Property_Area         0\n",
       "Loan_Status           0\n",
       "dtype: int64"
      ]
     },
     "execution_count": 14,
     "metadata": {},
     "output_type": "execute_result"
    }
   ],
   "source": [
    "loan.isnull().sum()"
   ]
  },
  {
   "cell_type": "markdown",
   "id": "55a328eb",
   "metadata": {
    "papermill": {
     "duration": 0.015095,
     "end_time": "2024-02-29T16:38:54.157087",
     "exception": false,
     "start_time": "2024-02-29T16:38:54.141992",
     "status": "completed"
    },
    "tags": []
   },
   "source": [
    "**Plots**"
   ]
  },
  {
   "cell_type": "code",
   "execution_count": 15,
   "id": "ed149cf1",
   "metadata": {
    "execution": {
     "iopub.execute_input": "2024-02-29T16:38:54.191176Z",
     "iopub.status.busy": "2024-02-29T16:38:54.190435Z",
     "iopub.status.idle": "2024-02-29T16:38:54.737424Z",
     "shell.execute_reply": "2024-02-29T16:38:54.735963Z"
    },
    "papermill": {
     "duration": 0.568754,
     "end_time": "2024-02-29T16:38:54.741348",
     "exception": false,
     "start_time": "2024-02-29T16:38:54.172594",
     "status": "completed"
    },
    "tags": []
   },
   "outputs": [
    {
     "name": "stderr",
     "output_type": "stream",
     "text": [
      "/opt/conda/lib/python3.10/site-packages/seaborn/_oldcore.py:1119: FutureWarning: use_inf_as_na option is deprecated and will be removed in a future version. Convert inf values to NaN before operating instead.\n",
      "  with pd.option_context('mode.use_inf_as_na', True):\n"
     ]
    },
    {
     "data": {
      "text/plain": [
       "Text(0.5, 1.0, 'A plot showing the distribution of loan amount term')"
      ]
     },
     "execution_count": 15,
     "metadata": {},
     "output_type": "execute_result"
    },
    {
     "data": {
      "image/png": "[encoded data removed]",
      "text/plain": [
       "<Figure size 640x480 with 1 Axes>"
      ]
     },
     "metadata": {},
     "output_type": "display_data"
    }
   ],
   "source": [
    "#histogram\n",
    "sns.histplot(loan, x = 'Loan_Amount_Term', kde=True)\n",
    "plt.title('A plot showing the distribution of loan amount term')"
   ]
  },
  {
   "cell_type": "code",
   "execution_count": 16,
   "id": "67fc5ea1",
   "metadata": {
    "execution": {
     "iopub.execute_input": "2024-02-29T16:38:54.787136Z",
     "iopub.status.busy": "2024-02-29T16:38:54.786101Z",
     "iopub.status.idle": "2024-02-29T16:38:55.051518Z",
     "shell.execute_reply": "2024-02-29T16:38:55.049942Z"
    },
    "papermill": {
     "duration": 0.287706,
     "end_time": "2024-02-29T16:38:55.054508",
     "exception": false,
     "start_time": "2024-02-29T16:38:54.766802",
     "status": "completed"
    },
    "tags": []
   },
   "outputs": [
    {
     "data": {
      "text/plain": [
       "Text(0.5, 1.0, 'A plot showing the distribution of loan amount term')"
      ]
     },
     "execution_count": 16,
     "metadata": {},
     "output_type": "execute_result"
    },
    {
     "data": {
      "image/png": "[encoded data removed]",
      "text/plain": [
       "<Figure size 640x480 with 1 Axes>"
      ]
     },
     "metadata": {},
     "output_type": "display_data"
    }
   ],
   "source": [
    "#boxplot\n",
    "sns.boxplot(loan, x = 'Loan_Amount_Term')\n",
    "plt.title('A plot showing the distribution of loan amount term')"
   ]
  },
  {
   "cell_type": "code",
   "execution_count": 17,
   "id": "e1de3512",
   "metadata": {
    "execution": {
     "iopub.execute_input": "2024-02-29T16:38:55.095588Z",
     "iopub.status.busy": "2024-02-29T16:38:55.093380Z",
     "iopub.status.idle": "2024-02-29T16:38:55.104438Z",
     "shell.execute_reply": "2024-02-29T16:38:55.102923Z"
    },
    "papermill": {
     "duration": 0.034882,
     "end_time": "2024-02-29T16:38:55.107571",
     "exception": false,
     "start_time": "2024-02-29T16:38:55.072689",
     "status": "completed"
    },
    "tags": []
   },
   "outputs": [
    {
     "data": {
      "text/plain": [
       "360.0"
      ]
     },
     "execution_count": 17,
     "metadata": {},
     "output_type": "execute_result"
    }
   ],
   "source": [
    "#use median to fill in the missing vaues for Loan_Amount_Term because the data is left skewed\n",
    "loan_term_med = loan['Loan_Amount_Term'].median()\n",
    "loan_term_med"
   ]
  },
  {
   "cell_type": "code",
   "execution_count": 18,
   "id": "c09b66e1",
   "metadata": {
    "execution": {
     "iopub.execute_input": "2024-02-29T16:38:55.145093Z",
     "iopub.status.busy": "2024-02-29T16:38:55.144621Z",
     "iopub.status.idle": "2024-02-29T16:38:55.154330Z",
     "shell.execute_reply": "2024-02-29T16:38:55.152932Z"
    },
    "papermill": {
     "duration": 0.031471,
     "end_time": "2024-02-29T16:38:55.157187",
     "exception": false,
     "start_time": "2024-02-29T16:38:55.125716",
     "status": "completed"
    },
    "tags": []
   },
   "outputs": [
    {
     "data": {
      "text/plain": [
       "360.0"
      ]
     },
     "execution_count": 18,
     "metadata": {},
     "output_type": "execute_result"
    }
   ],
   "source": [
    "loan_term_med2 = np.nanmedian(loan['Loan_Amount_Term'])\n",
    "loan_term_med2"
   ]
  },
  {
   "cell_type": "code",
   "execution_count": 19,
   "id": "a7c72e02",
   "metadata": {
    "execution": {
     "iopub.execute_input": "2024-02-29T16:38:55.195236Z",
     "iopub.status.busy": "2024-02-29T16:38:55.194789Z",
     "iopub.status.idle": "2024-02-29T16:38:55.203339Z",
     "shell.execute_reply": "2024-02-29T16:38:55.201659Z"
    },
    "papermill": {
     "duration": 0.031026,
     "end_time": "2024-02-29T16:38:55.205801",
     "exception": false,
     "start_time": "2024-02-29T16:38:55.174775",
     "status": "completed"
    },
    "tags": []
   },
   "outputs": [
    {
     "data": {
      "text/plain": [
       "340.86486486486484"
      ]
     },
     "execution_count": 19,
     "metadata": {},
     "output_type": "execute_result"
    }
   ],
   "source": [
    "loan_term_mean = loan['Loan_Amount_Term'].mean()\n",
    "loan_term_mean"
   ]
  },
  {
   "cell_type": "code",
   "execution_count": 20,
   "id": "b42b6e13",
   "metadata": {
    "execution": {
     "iopub.execute_input": "2024-02-29T16:38:55.244175Z",
     "iopub.status.busy": "2024-02-29T16:38:55.243244Z",
     "iopub.status.idle": "2024-02-29T16:38:55.251690Z",
     "shell.execute_reply": "2024-02-29T16:38:55.250323Z"
    },
    "papermill": {
     "duration": 0.029992,
     "end_time": "2024-02-29T16:38:55.254258",
     "exception": false,
     "start_time": "2024-02-29T16:38:55.224266",
     "status": "completed"
    },
    "tags": []
   },
   "outputs": [
    {
     "data": {
      "text/plain": [
       "340.86486486486484"
      ]
     },
     "execution_count": 20,
     "metadata": {},
     "output_type": "execute_result"
    }
   ],
   "source": [
    "loan_term_mean2 = np.mean(loan['Loan_Amount_Term'])\n",
    "loan_term_mean2"
   ]
  },
  {
   "cell_type": "code",
   "execution_count": 21,
   "id": "d4a79b82",
   "metadata": {
    "execution": {
     "iopub.execute_input": "2024-02-29T16:38:55.290966Z",
     "iopub.status.busy": "2024-02-29T16:38:55.290424Z",
     "iopub.status.idle": "2024-02-29T16:38:55.303325Z",
     "shell.execute_reply": "2024-02-29T16:38:55.301718Z"
    },
    "papermill": {
     "duration": 0.0347,
     "end_time": "2024-02-29T16:38:55.306066",
     "exception": false,
     "start_time": "2024-02-29T16:38:55.271366",
     "status": "completed"
    },
    "tags": []
   },
   "outputs": [
    {
     "data": {
      "text/plain": [
       "0    360.0\n",
       "Name: Loan_Amount_Term, dtype: float64"
      ]
     },
     "execution_count": 21,
     "metadata": {},
     "output_type": "execute_result"
    }
   ],
   "source": [
    "loan_term_mode = loan['Loan_Amount_Term'].mode()\n",
    "loan_term_mode"
   ]
  },
  {
   "cell_type": "code",
   "execution_count": 22,
   "id": "d7242b8c",
   "metadata": {
    "execution": {
     "iopub.execute_input": "2024-02-29T16:38:55.409966Z",
     "iopub.status.busy": "2024-02-29T16:38:55.409389Z",
     "iopub.status.idle": "2024-02-29T16:38:55.417306Z",
     "shell.execute_reply": "2024-02-29T16:38:55.415913Z"
    },
    "papermill": {
     "duration": 0.030257,
     "end_time": "2024-02-29T16:38:55.419906",
     "exception": false,
     "start_time": "2024-02-29T16:38:55.389649",
     "status": "completed"
    },
    "tags": []
   },
   "outputs": [],
   "source": [
    "#Fill missing values\n",
    "loan.fillna({'Loan_Amount_Term': loan_term_med}, inplace = True)"
   ]
  },
  {
   "cell_type": "code",
   "execution_count": 23,
   "id": "5ab61f7b",
   "metadata": {
    "execution": {
     "iopub.execute_input": "2024-02-29T16:38:55.460381Z",
     "iopub.status.busy": "2024-02-29T16:38:55.459902Z",
     "iopub.status.idle": "2024-02-29T16:38:55.469574Z",
     "shell.execute_reply": "2024-02-29T16:38:55.467964Z"
    },
    "papermill": {
     "duration": 0.035403,
     "end_time": "2024-02-29T16:38:55.473512",
     "exception": false,
     "start_time": "2024-02-29T16:38:55.438109",
     "status": "completed"
    },
    "tags": []
   },
   "outputs": [
    {
     "data": {
      "text/plain": [
       "0"
      ]
     },
     "execution_count": 23,
     "metadata": {},
     "output_type": "execute_result"
    }
   ],
   "source": [
    "loan['Loan_Amount_Term'].isnull().sum()"
   ]
  },
  {
   "cell_type": "code",
   "execution_count": 24,
   "id": "b7f1af2c",
   "metadata": {
    "execution": {
     "iopub.execute_input": "2024-02-29T16:38:55.515984Z",
     "iopub.status.busy": "2024-02-29T16:38:55.515444Z",
     "iopub.status.idle": "2024-02-29T16:38:55.938655Z",
     "shell.execute_reply": "2024-02-29T16:38:55.937117Z"
    },
    "papermill": {
     "duration": 0.44787,
     "end_time": "2024-02-29T16:38:55.942074",
     "exception": false,
     "start_time": "2024-02-29T16:38:55.494204",
     "status": "completed"
    },
    "tags": []
   },
   "outputs": [
    {
     "name": "stderr",
     "output_type": "stream",
     "text": [
      "/opt/conda/lib/python3.10/site-packages/seaborn/_oldcore.py:1119: FutureWarning: use_inf_as_na option is deprecated and will be removed in a future version. Convert inf values to NaN before operating instead.\n",
      "  with pd.option_context('mode.use_inf_as_na', True):\n"
     ]
    },
    {
     "data": {
      "text/plain": [
       "Text(0.5, 1.0, 'A plot showing Credit History')"
      ]
     },
     "execution_count": 24,
     "metadata": {},
     "output_type": "execute_result"
    },
    {
     "data": {
      "image/png": "[encoded data removed]",
      "text/plain": [
       "<Figure size 640x480 with 1 Axes>"
      ]
     },
     "metadata": {},
     "output_type": "display_data"
    }
   ],
   "source": [
    "#histogram\n",
    "sns.histplot(loan, x = 'Credit_History', kde=True)\n",
    "plt.title('A plot showing Credit History')"
   ]
  },
  {
   "cell_type": "code",
   "execution_count": 25,
   "id": "8ef4d2b3",
   "metadata": {
    "execution": {
     "iopub.execute_input": "2024-02-29T16:38:55.981162Z",
     "iopub.status.busy": "2024-02-29T16:38:55.980611Z",
     "iopub.status.idle": "2024-02-29T16:38:55.990889Z",
     "shell.execute_reply": "2024-02-29T16:38:55.989521Z"
    },
    "papermill": {
     "duration": 0.032823,
     "end_time": "2024-02-29T16:38:55.993302",
     "exception": false,
     "start_time": "2024-02-29T16:38:55.960479",
     "status": "completed"
    },
    "tags": []
   },
   "outputs": [
    {
     "data": {
      "text/plain": [
       "1.0"
      ]
     },
     "execution_count": 25,
     "metadata": {},
     "output_type": "execute_result"
    }
   ],
   "source": [
    "med_ced = loan['Credit_History'].median()\n",
    "med_ced"
   ]
  },
  {
   "cell_type": "code",
   "execution_count": 26,
   "id": "302ea1bc",
   "metadata": {
    "execution": {
     "iopub.execute_input": "2024-02-29T16:38:56.035205Z",
     "iopub.status.busy": "2024-02-29T16:38:56.033928Z",
     "iopub.status.idle": "2024-02-29T16:38:56.042298Z",
     "shell.execute_reply": "2024-02-29T16:38:56.041075Z"
    },
    "papermill": {
     "duration": 0.030769,
     "end_time": "2024-02-29T16:38:56.044795",
     "exception": false,
     "start_time": "2024-02-29T16:38:56.014026",
     "status": "completed"
    },
    "tags": []
   },
   "outputs": [
    {
     "data": {
      "text/plain": [
       "0.8376068376068376"
      ]
     },
     "execution_count": 26,
     "metadata": {},
     "output_type": "execute_result"
    }
   ],
   "source": [
    "mean_ced = loan['Credit_History'].mean()\n",
    "mean_ced"
   ]
  },
  {
   "cell_type": "code",
   "execution_count": 27,
   "id": "ddb736f1",
   "metadata": {
    "execution": {
     "iopub.execute_input": "2024-02-29T16:38:56.084382Z",
     "iopub.status.busy": "2024-02-29T16:38:56.083141Z",
     "iopub.status.idle": "2024-02-29T16:38:56.092338Z",
     "shell.execute_reply": "2024-02-29T16:38:56.091127Z"
    },
    "papermill": {
     "duration": 0.031704,
     "end_time": "2024-02-29T16:38:56.094788",
     "exception": false,
     "start_time": "2024-02-29T16:38:56.063084",
     "status": "completed"
    },
    "tags": []
   },
   "outputs": [
    {
     "data": {
      "text/plain": [
       "0    1.0\n",
       "Name: Credit_History, dtype: float64"
      ]
     },
     "execution_count": 27,
     "metadata": {},
     "output_type": "execute_result"
    }
   ],
   "source": [
    "mode_ced = loan['Credit_History'].mode()\n",
    "mode_ced"
   ]
  },
  {
   "cell_type": "code",
   "execution_count": 28,
   "id": "e8c10e9e",
   "metadata": {
    "execution": {
     "iopub.execute_input": "2024-02-29T16:38:56.134423Z",
     "iopub.status.busy": "2024-02-29T16:38:56.134000Z",
     "iopub.status.idle": "2024-02-29T16:38:56.141006Z",
     "shell.execute_reply": "2024-02-29T16:38:56.140014Z"
    },
    "papermill": {
     "duration": 0.030406,
     "end_time": "2024-02-29T16:38:56.143693",
     "exception": false,
     "start_time": "2024-02-29T16:38:56.113287",
     "status": "completed"
    },
    "tags": []
   },
   "outputs": [],
   "source": [
    "#Fill missing values\n",
    "loan.fillna({'Credit_History': med_ced}, inplace = True)"
   ]
  },
  {
   "cell_type": "code",
   "execution_count": 29,
   "id": "a28dea47",
   "metadata": {
    "execution": {
     "iopub.execute_input": "2024-02-29T16:38:56.184644Z",
     "iopub.status.busy": "2024-02-29T16:38:56.183420Z",
     "iopub.status.idle": "2024-02-29T16:38:56.193169Z",
     "shell.execute_reply": "2024-02-29T16:38:56.191755Z"
    },
    "papermill": {
     "duration": 0.033012,
     "end_time": "2024-02-29T16:38:56.195717",
     "exception": false,
     "start_time": "2024-02-29T16:38:56.162705",
     "status": "completed"
    },
    "tags": []
   },
   "outputs": [
    {
     "data": {
      "text/plain": [
       "0"
      ]
     },
     "execution_count": 29,
     "metadata": {},
     "output_type": "execute_result"
    }
   ],
   "source": [
    "loan['Credit_History'].isnull().sum()"
   ]
  },
  {
   "cell_type": "markdown",
   "id": "68bf3051",
   "metadata": {
    "papermill": {
     "duration": 0.020752,
     "end_time": "2024-02-29T16:38:56.235148",
     "exception": false,
     "start_time": "2024-02-29T16:38:56.214396",
     "status": "completed"
    },
    "tags": []
   },
   "source": [
    "### Assignment:\n",
    "> - Plot the categorical data\n",
    "> - Add what you've deduced from the data"
   ]
  }
 ],
 "metadata": {
  "kaggle": {
   "accelerator": "none",
   "dataSources": [
    {
     "datasetId": 4390452,
     "sourceId": 7539897,
     "sourceType": "datasetVersion"
    }
   ],
   "dockerImageVersionId": 30664,
   "isGpuEnabled": false,
   "isInternetEnabled": true,
   "language": "python",
   "sourceType": "notebook"
  },
  "kernelspec": {
   "display_name": "Python 3",
   "language": "python",
   "name": "python3"
  },
  "language_info": {
   "codemirror_mode": {
    "name": "ipython",
    "version": 3
   },
   "file_extension": ".py",
   "mimetype": "text/x-python",
   "name": "python",
   "nbconvert_exporter": "python",
   "pygments_lexer": "ipython3",
   "version": "3.10.13"
  },
  "papermill": {
   "default_parameters": {},
   "duration": 10.863384,
   "end_time": "2024-02-29T16:38:57.181116",
   "environment_variables": {},
   "exception": null,
   "input_path": "__notebook__.ipynb",
   "output_path": "__notebook__.ipynb",
   "parameters": {},
   "start_time": "2024-02-29T16:38:46.317732",
   "version": "2.5.0"
  }
 },
 "nbformat": 4,
 "nbformat_minor": 5
}
